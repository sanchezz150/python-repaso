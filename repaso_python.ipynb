{
 "cells": [
  {
   "cell_type": "code",
   "execution_count": 10,
   "id": "dbbf29fd-e867-45d5-a59c-b1e11f55dd6f",
   "metadata": {},
   "outputs": [
    {
     "name": "stdout",
     "output_type": "stream",
     "text": [
      "La suma de los 2 numeros es: 15\n",
      "La multiplicacion de los 2 numeros es: 50\n"
     ]
    }
   ],
   "source": [
    "# Variables\n",
    "numero1 = 5\n",
    "numero2 = 10\n",
    "suma = numero1 + numero2\n",
    "\n",
    "# casting de int =< str\n",
    "print(\"La suma de los 2 numeros es: \" + str(suma))\n",
    "\n",
    "# print usando una expresion (la expresion se evalua a un valor)\n",
    "print(\"La multiplicacion de los 2 numeros es: \" + str(numero1 * numero2))\n"
   ]
  },
  {
   "cell_type": "code",
   "execution_count": 11,
   "id": "229cd746-20ef-461e-b64a-5cba423b8f16",
   "metadata": {},
   "outputs": [
    {
     "name": "stdin",
     "output_type": "stream",
     "text": [
      "Vamos a sumar 2 numeros. Introduce el primer numero 7\n",
      "Vamos a sumar 2 numeros. Introduce el segundo numero 10\n"
     ]
    },
    {
     "name": "stdout",
     "output_type": "stream",
     "text": [
      "El resultado de la suma es: 17\n"
     ]
    }
   ],
   "source": [
    "# Entrada de datos\n",
    "a = input(\"Vamos a sumar 2 numeros. Introduce el primer numero\")\n",
    "b = input(\"Vamos a sumar 2 numeros. Introduce el segundo numero\")\n",
    "print(\"El resultado de la suma es: \" + str(int(a) + int(b)) )"
   ]
  },
  {
   "cell_type": "code",
   "execution_count": 13,
   "id": "4767a536-de6a-46ea-8757-89cc99cb401f",
   "metadata": {},
   "outputs": [
    {
     "name": "stdout",
     "output_type": "stream",
     "text": [
      "El numero1 es menor\n"
     ]
    }
   ],
   "source": [
    "# Control de flujo (if)\n",
    "numero1 = 5\n",
    "numero2 = 10\n",
    "if numero1 < numero2:\n",
    "    print(\"El numero1 es menor\")\n",
    "else:\n",
    "    print(\"El numero2 es menor\")"
   ]
  },
  {
   "cell_type": "code",
   "execution_count": 17,
   "id": "f8a601a7-6d74-4006-8054-de85900f43b6",
   "metadata": {},
   "outputs": [
    {
     "name": "stdout",
     "output_type": "stream",
     "text": [
      "La lista es: [1, 2, 3, 4, 5]\n",
      "El doble del elemento es: 2\n",
      "El doble del elemento es: 4\n",
      "El doble del elemento es: 6\n",
      "El doble del elemento es: 8\n",
      "El doble del elemento es: 10\n"
     ]
    }
   ],
   "source": [
    "# control de flujo (for)\n",
    "mi_lista = [1, 2, 3, 4, 5]\n",
    "print(\"La lista es: \" + str(mi_lista) )\n",
    "for elemento in mi_lista:\n",
    "    print(\"El doble del elemento es: \" + str(elemento*2))"
   ]
  },
  {
   "cell_type": "code",
   "execution_count": 6,
   "id": "ad687761-68f1-4e07-95d9-731db404610d",
   "metadata": {},
   "outputs": [
    {
     "name": "stdout",
     "output_type": "stream",
     "text": [
      "sum: 110\n"
     ]
    }
   ],
   "source": [
    "# control de flujo (while)\n",
    "i = 1\n",
    "s = 0\n",
    "while i <= 10:\n",
    "    s = s + i*2\n",
    "    i = i + 1\n",
    "print(\"sum:\", s)"
   ]
  },
  {
   "cell_type": "code",
   "execution_count": 67,
   "id": "4b659f68-7767-4111-b070-63884c8a1b10",
   "metadata": {},
   "outputs": [
    {
     "name": "stdout",
     "output_type": "stream",
     "text": [
      "#################\n",
      "### LISTAS () ###\n",
      "#################\n",
      "\n",
      "### ACCESO A LOS ELEMENTOS DE LA LISTA ###\n",
      "Todos los elementos de la lista (con numeros):\n",
      "[1, 2, 3, 7, 10]\n",
      "Modificando un elemento de la lista (el primero)...\n",
      "[50, 2, 3, 7, 10]\n",
      "\n",
      "Todos los elementos de la lista (con strings):\n",
      "['audi', 'ford', 'citroen', 'ferrari', 'peugeout']\n",
      "El primer elemento es => audi\n",
      "El ultimo elemento es (indice negativoÇ) => peugeout\n",
      "\n",
      "### ITERAR UNA LISTA ###\n",
      "La longitud de la lista es => 5\n",
      "La marca numero 0 es => audi\n",
      "La marca numero 1 es => ford\n",
      "La marca numero 2 es => citroen\n",
      "La marca numero 3 es => ferrari\n",
      "La marca numero 4 es => peugeout\n",
      "\n",
      "### LISTA CON ELEMENTOS DE DIFERENTES TIPOS ###\n",
      "Valores de la lista con diferentes tipos:\n",
      "['Telefonica', 1500, 37.5, True]\n"
     ]
    }
   ],
   "source": [
    "print(\"#################\")\n",
    "print(\"### LISTAS () ###\")\n",
    "print(\"#################\")\n",
    "\n",
    "print(\"\\n### ACCESO A LOS ELEMENTOS DE LA LISTA ###\")\n",
    "lista1 = [1, 2, 3, 7, 10]\n",
    "print(\"Todos los elementos de la lista (con numeros):\")\n",
    "print(lista1)\n",
    "\n",
    "print(\"Modificando un elemento de la lista (el primero)...\")\n",
    "lista1[0] = 50\n",
    "print(lista1)\n",
    "\n",
    "print()\n",
    "lista_marcas_coche = [\"audi\" , \"ford\" , \"citroen\", \"ferrari\" , \"peugeout\"]\n",
    "print(\"Todos los elementos de la lista (con strings):\")\n",
    "print(lista_marcas_coche)\n",
    "\n",
    "\n",
    "print(\"El primer elemento es => \" + lista_marcas_coche[0])\n",
    "print(\"El ultimo elemento es (indice negativoÇ) => \" + lista_marcas_coche[-1])\n",
    "\n",
    "\n",
    "print(\"\\n### ITERAR UNA LISTA ###\" )\n",
    "print(\"La longitud de la lista es => \" + str(len(lista_marcas_coche)) )  # Esto se puede omitir\n",
    "for indice  in range(len(lista_marcas_coche)):   # \"Para cada elemento que haya en la lista (independiente del tamaño de la lista)\n",
    "    print(\"La marca numero \" + str(indice) +  \" es => \" + lista_marcas_coche[indice] )\n",
    "\n",
    "print(\"\\n### LISTA CON ELEMENTOS DE DIFERENTES TIPOS ###\" )\n",
    "caracteristicas_empleo = [\"Telefonica\", 1500, 37.5, True]  # tipo booleano (True / False)\n",
    "print(\"Valores de la lista con diferentes tipos:\")\n",
    "print(caracteristicas_empleo)"
   ]
  },
  {
   "cell_type": "code",
   "execution_count": 69,
   "id": "be975190-6ab0-49e6-9642-98cb2ff4bc5c",
   "metadata": {},
   "outputs": [
    {
     "name": "stdout",
     "output_type": "stream",
     "text": [
      "#################\n",
      "### TUPLAS () ###\n",
      "#################\n",
      "\n",
      "### ACCESO A LOS ELEMENTOS DE LA TUPLA\n",
      "Todos los elementos de la tupla (con numeros):\n",
      "[50, 2, 3, 7, 10]\n",
      "La longitud de la tupla es => 5\n",
      "¿Podemos modificar un elemento de una tupla? => NO PODEMOS\n"
     ]
    }
   ],
   "source": [
    "print(\"#################\")\n",
    "print(\"### TUPLAS () ###\")\n",
    "print(\"#################\")\n",
    "\n",
    "print(\"\\n### ACCESO A LOS ELEMENTOS DE LA TUPLA\")\n",
    "mi_tupla = (1, 2, 3, 7, 10)\n",
    "print(\"Todos los elementos de la tupla (con numeros):\")\n",
    "print(lista1)\n",
    "print(\"La longitud de la tupla es => \" +  str(len(mi_tupla)) )\n",
    "\n",
    "print(\"¿Podemos modificar un elemento de una tupla? => NO PODEMOS\")\n",
    "#mi_tupla(0) = 50  # Esto peta\n",
    "\n"
   ]
  },
  {
   "cell_type": "code",
   "execution_count": null,
   "id": "63414e00-d4ec-44cd-9689-c886799b9d5d",
   "metadata": {},
   "outputs": [],
   "source": []
  },
  {
   "cell_type": "code",
   "execution_count": null,
   "id": "6e1d0913-4b06-47f6-9c5d-b114ae9d53b4",
   "metadata": {},
   "outputs": [],
   "source": []
  },
  {
   "cell_type": "code",
   "execution_count": null,
   "id": "da172973-79c4-4f78-9a46-ffe4d0a5b39c",
   "metadata": {},
   "outputs": [],
   "source": []
  }
 ],
 "metadata": {
  "kernelspec": {
   "display_name": "Python 3 (ipykernel)",
   "language": "python",
   "name": "python3"
  },
  "language_info": {
   "codemirror_mode": {
    "name": "ipython",
    "version": 3
   },
   "file_extension": ".py",
   "mimetype": "text/x-python",
   "name": "python",
   "nbconvert_exporter": "python",
   "pygments_lexer": "ipython3",
   "version": "3.12.1"
  }
 },
 "nbformat": 4,
 "nbformat_minor": 5
}
